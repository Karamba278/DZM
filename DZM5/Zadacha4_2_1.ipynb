{
 "cells": [
  {
   "cell_type": "code",
   "execution_count": 11,
   "metadata": {},
   "outputs": [
    {
     "name": "stdout",
     "output_type": "stream",
     "text": [
      "Играем в рулетку с возможностью ставки сразу на несколько полей\n",
      "На сколько полей одновременно Вы хотите сделать ставки в рулетку? (от 1 до 37 полей)  6\n",
      "Отличный выбор! Так как события независимы, а вероятность выпадения любого поля составляет 1/37:\n",
      "Вы выйграете с вероятностью 0.16 (или 6/37) согласно теореме сложения вероятности\n",
      "укажите поле №1  1\n",
      "укажите поле №2  2\n",
      "укажите поле №3  3\n",
      "укажите поле №4  4\n",
      "укажите поле №5  5\n",
      "укажите поле №6  6\n",
      "Барабан вращается... и....\n",
      "Эх! В этот раз Вам не повезло. Выпало поле 35. Вам обязательно повезет в следующий раз!\n"
     ]
    }
   ],
   "source": [
    "%matplotlib inline\n",
    "import numpy as np\n",
    "import matplotlib.pyplot as plt\n",
    "import matplotlib.mlab as mlab\n",
    "\n",
    "print ('Играем в рулетку с возможностью ставки сразу на несколько полей')\n",
    "number = int (input('На сколько полей одновременно Вы хотите сделать ставки в рулетку? (от 1 до 37 полей)  '))\n",
    "print ('Отличный выбор! Так как события независимы, а вероятность выпадения любого поля составляет 1/37:') \n",
    "print(f'Вы выйграете с вероятностью {round(1/37*number, 2)} (или {number}/37) согласно теореме сложения вероятности')\n",
    "pole = []\n",
    "for i in range(0, number):\n",
    "    znach=int(input(f'укажите поле №{i+1}  '))\n",
    "    pole.append(znach)\n",
    "    \n",
    "x = np.random.uniform(0, 36)\n",
    "x=round(x)\n",
    "print ('Барабан вращается... и....')\n",
    "if x in pole:\n",
    "    count = pole.index(x)\n",
    "    print(f'Ура! Вы победили! Выпало поле {x}, которое Вы указали на ходе № {count+1} ' )\n",
    "    \n",
    "else:\n",
    "    print(f'Эх! В этот раз Вам не повезло. Выпало поле {x}. Вам обязательно повезет в следующий раз!')\n",
    "\n"
   ]
  },
  {
   "cell_type": "code",
   "execution_count": null,
   "metadata": {},
   "outputs": [],
   "source": []
  }
 ],
 "metadata": {
  "kernelspec": {
   "display_name": "Python 3",
   "language": "python",
   "name": "python3"
  },
  "language_info": {
   "codemirror_mode": {
    "name": "ipython",
    "version": 3
   },
   "file_extension": ".py",
   "mimetype": "text/x-python",
   "name": "python",
   "nbconvert_exporter": "python",
   "pygments_lexer": "ipython3",
   "version": "3.7.4"
  }
 },
 "nbformat": 4,
 "nbformat_minor": 2
}
