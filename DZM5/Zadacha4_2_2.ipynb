{
 "cells": [
  {
   "cell_type": "code",
   "execution_count": 1,
   "metadata": {},
   "outputs": [
    {
     "data": {
      "text/plain": [
       "array([0.58737951, 0.21695691, 0.97412534, 0.38743173, 0.33890579,\n",
       "       0.52297926, 0.9896697 , 0.69311979, 0.85607741, 0.05186703])"
      ]
     },
     "execution_count": 1,
     "metadata": {},
     "output_type": "execute_result"
    }
   ],
   "source": [
    "%matplotlib inline\n",
    "import numpy as np\n",
    "import math\n",
    "import matplotlib.pyplot as plt\n",
    "import matplotlib.mlab as mlab\n"
   ]
  },
  {
   "cell_type": "code",
   "execution_count": 9,
   "metadata": {},
   "outputs": [
    {
     "name": "stdout",
     "output_type": "stream",
     "text": [
      "Сумма всех элементов списка 1 = 4.670858449898973\n",
      "Сумма всех элементов списка 2 = 6.25299904426596\n",
      "Сумма всех элементов списка 3 = 6.10202092260684\n",
      "Сумма всех элементов списка 4 = 4.413442612536882\n",
      "Сумма всех элементов списка 5 = 6.2414069238934955\n",
      "Сумма всех элементов списка 6 = 5.176348952515806\n",
      "Сумма всех элементов списка 7 = 5.136608398259995\n",
      "Сумма всех элементов списка 8 = 5.762784377058595\n",
      "Сумма всех элементов списка 9 = 4.428623886229973\n",
      "Сумма всех элементов списка 10 = 6.187373114188471\n"
     ]
    },
    {
     "data": {
      "text/plain": [
       "Text(0.5, 1.0, 'Histogram')"
      ]
     },
     "execution_count": 9,
     "metadata": {},
     "output_type": "execute_result"
    },
    {
     "data": {
      "image/png": "[encoded data removed]",
      "text/plain": [
       "<Figure size 432x288 with 1 Axes>"
      ]
     },
     "metadata": {
      "needs_background": "light"
     },
     "output_type": "display_data"
    }
   ],
   "source": [
    "x=[]\n",
    "xsum=[]\n",
    "for i in range (0,10):\n",
    "    count = np.random.rand(10)\n",
    "    x.append(count)\n",
    "    xsum.append(sum(x[i]))\n",
    "    print(f'Сумма всех элементов списка {i+1} = {xsum[i]}')\n",
    "num_bins = 10\n",
    "n, bins, patches = plt.hist(xsum, num_bins)\n",
    "plt.xlabel('x')\n",
    "plt.ylabel('Probability')\n",
    "plt.title('Histogram')"
   ]
  },
  {
   "cell_type": "code",
   "execution_count": null,
   "metadata": {},
   "outputs": [],
   "source": []
  },
  {
   "cell_type": "code",
   "execution_count": null,
   "metadata": {},
   "outputs": [],
   "source": []
  },
  {
   "cell_type": "code",
   "execution_count": null,
   "metadata": {},
   "outputs": [],
   "source": []
  }
 ],
 "metadata": {
  "kernelspec": {
   "display_name": "Python 3",
   "language": "python",
   "name": "python3"
  },
  "language_info": {
   "codemirror_mode": {
    "name": "ipython",
    "version": 3
   },
   "file_extension": ".py",
   "mimetype": "text/x-python",
   "name": "python",
   "nbconvert_exporter": "python",
   "pygments_lexer": "ipython3",
   "version": "3.7.4"
  }
 },
 "nbformat": 4,
 "nbformat_minor": 2
}
