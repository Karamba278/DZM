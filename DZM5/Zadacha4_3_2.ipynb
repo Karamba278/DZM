{
 "cells": [
  {
   "cell_type": "code",
   "execution_count": 3,
   "metadata": {},
   "outputs": [
    {
     "name": "stdout",
     "output_type": "stream",
     "text": [
      "Оценим вероятность трех успехов на 4 испытаниях\n",
      "24938 100000 0.24938\n",
      "Посчитаем вероятность по формуле Бернулли\n",
      "Вероятность = 0.25\n",
      "Оценим вероятность одного успеха на 4 испытаниях\n",
      "24985 100000 0.24985\n",
      "Посчитаем вероятность по формуле Бернулли\n",
      "Вероятность = 0.25\n"
     ]
    }
   ],
   "source": [
    "import numpy as np\n",
    "import itertools\n",
    "import math\n",
    "\n",
    "print ('Оценим вероятность трех успехов на 4 испытаниях')\n",
    "k, n = 0, 100000\n",
    "a = np.random.randint(0, 2, n)\n",
    "b = np.random.randint(0, 2, n)\n",
    "c = np.random.randint(0, 2, n)\n",
    "d = np.random.randint(0, 2, n)\n",
    "x = a + b + c + d\n",
    "for i in range(0, n):\n",
    "    if x[i] == 3:\n",
    "        k = k + 1\n",
    "#print(a, b, c, d)\n",
    "#print(x)\n",
    "print(k, n, k/n)\n",
    "print('Посчитаем вероятность по формуле Бернулли')\n",
    "# Наша задача оценить вероятность выпадение ТРЕХ успехов на 4 испытаниях, поэтому запишем n и k как:\n",
    "n=4\n",
    "k=3\n",
    "print('Вероятность =', (math.factorial(n)/(math.factorial(k)*(math.factorial(n-k)))/(2**(n))))\n",
    "\n",
    "print ('Оценим вероятность одного успеха на 4 испытаниях')\n",
    "k, n = 0, 100000\n",
    "a = np.random.randint(0, 2, n)\n",
    "b = np.random.randint(0, 2, n)\n",
    "c = np.random.randint(0, 2, n)\n",
    "d = np.random.randint(0, 2, n)\n",
    "x = a + b + c + d\n",
    "for i in range(0, n):\n",
    "    if x[i] == 1:\n",
    "        k = k + 1\n",
    "#print(a, b, c, d)\n",
    "#print(x)\n",
    "print(k, n, k/n)\n",
    "print('Посчитаем вероятность по формуле Бернулли')\n",
    "# Наша задача оценить вероятность выпадение ОДНОГО успеха на 4 испытаниях, поэтому запишем n и k как:\n",
    "n=4\n",
    "k=1\n",
    "print('Вероятность =', (math.factorial(n)/(math.factorial(k)*(math.factorial(n-k)))/(2**(n))))"
   ]
  },
  {
   "cell_type": "code",
   "execution_count": null,
   "metadata": {},
   "outputs": [],
   "source": []
  }
 ],
 "metadata": {
  "kernelspec": {
   "display_name": "Python 3",
   "language": "python",
   "name": "python3"
  },
  "language_info": {
   "codemirror_mode": {
    "name": "ipython",
    "version": 3
   },
   "file_extension": ".py",
   "mimetype": "text/x-python",
   "name": "python",
   "nbconvert_exporter": "python",
   "pygments_lexer": "ipython3",
   "version": "3.7.4"
  }
 },
 "nbformat": 4,
 "nbformat_minor": 2
}
