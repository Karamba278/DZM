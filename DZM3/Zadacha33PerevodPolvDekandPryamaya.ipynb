{
 "cells": [
  {
   "cell_type": "code",
   "execution_count": 15,
   "metadata": {},
   "outputs": [
    {
     "name": "stdout",
     "output_type": "stream",
     "text": [
      "Введите полярный радиус точки  10\n",
      "Введите полярный угол точки в градусах  225\n",
      "Декартовые координаты точки - [-7.07,-7.07]\n",
      "Введите полярный радиус точки  10\n",
      "Введите полярный угол точки в градусах  45\n",
      "Декартовые координаты точки - [7.07,7.07]\n"
     ]
    },
    {
     "data": {
      "text/plain": [
       "[<matplotlib.lines.Line2D at 0xf5884c9208>]"
      ]
     },
     "execution_count": 15,
     "metadata": {},
     "output_type": "execute_result"
    },
    {
     "data": {
      "image/png": "[encoded data removed]",
      "text/plain": [
       "<Figure size 432x288 with 1 Axes>"
      ]
     },
     "metadata": {
      "needs_background": "light"
     },
     "output_type": "display_data"
    }
   ],
   "source": [
    "%matplotlib inline\n",
    "import numpy as np\n",
    "import matplotlib.pyplot as plt\n",
    "import math\n",
    "\n",
    "r1=int(input('Введите полярный радиус точки  '))\n",
    "i1=int(input('Введите полярный угол точки в градусах  '))\n",
    "a=math.radians(i1)\n",
    "x1=(r1*np.cos(a))\n",
    "y1=(r1*np.sin(a))\n",
    "x1=round(x1,2)\n",
    "y1=round(y1,2)\n",
    "print (f'Декартовые координаты точки - [{x1},{y1}]')\n",
    "r2=int(input('Введите полярный радиус точки  '))\n",
    "i2=int(input('Введите полярный угол точки в градусах  '))\n",
    "a=math.radians(i2)\n",
    "x2=(r2*np.cos(a))\n",
    "y2=(r2*np.sin(a))\n",
    "x2=round(x2,2)\n",
    "y2=round(y2,2)\n",
    "print (f'Декартовые координаты точки - [{x2},{y2}]')\n",
    "x= np.linspace(-20, 20, 21)\n",
    "y= (y2-y1)*(x-x1)/(x2-x1)+y1\n",
    "#plt.axes().set_aspect('equal')\n",
    "plt.grid(True)\n",
    "plt.plot(x,y)\n",
    "\n",
    "\n"
   ]
  },
  {
   "cell_type": "code",
   "execution_count": null,
   "metadata": {},
   "outputs": [],
   "source": []
  },
  {
   "cell_type": "code",
   "execution_count": null,
   "metadata": {},
   "outputs": [],
   "source": []
  }
 ],
 "metadata": {
  "kernelspec": {
   "display_name": "Python 3",
   "language": "python",
   "name": "python3"
  },
  "language_info": {
   "codemirror_mode": {
    "name": "ipython",
    "version": 3
   },
   "file_extension": ".py",
   "mimetype": "text/x-python",
   "name": "python",
   "nbconvert_exporter": "python",
   "pygments_lexer": "ipython3",
   "version": "3.7.4"
  }
 },
 "nbformat": 4,
 "nbformat_minor": 2
}
