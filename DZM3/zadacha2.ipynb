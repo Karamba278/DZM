{
 "cells": [
  {
   "cell_type": "code",
   "execution_count": 3,
   "metadata": {},
   "outputs": [
    {
     "name": "stdout",
     "output_type": "stream",
     "text": [
      "Введите координату X вектора 50\n",
      "Введите координату Y вектора 8\n",
      "Введите координату Z вектора -75\n",
      "Длина введенного Вами вектора составляет  90.493\n"
     ]
    }
   ],
   "source": [
    "x=int(input('Введите координату X вектора '))\n",
    "y=int(input('Введите координату Y вектора '))\n",
    "z=int(input('Введите координату Z вектора '))\n",
    "vec_lenght=(x**2 + y**2 + z**2)**(1/2)\n",
    "vec_lenght=round(vec_lenght, 3)\n",
    "print ('Длина введенного Вами вектора составляет ', vec_lenght)"
   ]
  },
  {
   "cell_type": "code",
   "execution_count": null,
   "metadata": {},
   "outputs": [],
   "source": []
  }
 ],
 "metadata": {
  "kernelspec": {
   "display_name": "Python 3",
   "language": "python",
   "name": "python3"
  },
  "language_info": {
   "codemirror_mode": {
    "name": "ipython",
    "version": 3
   },
   "file_extension": ".py",
   "mimetype": "text/x-python",
   "name": "python",
   "nbconvert_exporter": "python",
   "pygments_lexer": "ipython3",
   "version": "3.7.4"
  }
 },
 "nbformat": 4,
 "nbformat_minor": 2
}
