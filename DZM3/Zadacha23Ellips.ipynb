{
 "cells": [
  {
   "cell_type": "code",
   "execution_count": 2,
   "metadata": {},
   "outputs": [
    {
     "data": {
      "text/plain": [
       "[<matplotlib.lines.Line2D at 0xaab4be4e88>]"
      ]
     },
     "execution_count": 2,
     "metadata": {},
     "output_type": "execute_result"
    },
    {
     "data": {
      "image/png": "[encoded data removed]",
      "text/plain": [
       "<Figure size 432x288 with 1 Axes>"
      ]
     },
     "metadata": {
      "needs_background": "light"
     },
     "output_type": "display_data"
    }
   ],
   "source": [
    "%matplotlib inline\n",
    "import numpy as np\n",
    "import matplotlib.pyplot as plt\n",
    "import math\n",
    "\n",
    "x3 = []\n",
    "y3 = []\n",
    "x4 = []\n",
    "y4 = []\n",
    "x5 = []\n",
    "y5 = []\n",
    "x6 = []\n",
    "y6 = []\n",
    "a=2\n",
    "for i in range(10000):\n",
    "    x_ = i/1000\n",
    "    x3.append(x_)\n",
    "    y3.append(a*math.sqrt(10*10-x_*x_))\n",
    "    x4.append(-x_)\n",
    "    y4.append(a*math.sqrt(10*10-x_*x_))\n",
    "    x5.append(x_)\n",
    "    y5.append(a*(-math.sqrt(10*10-x_*x_)))\n",
    "    x6.append(-x_)\n",
    "    y6.append(a*(-math.sqrt(10*10-x_*x_)))\n",
    "plt.axes().set_aspect('equal')\n",
    "plt.plot(x3,y3)\n",
    "plt.plot(x4,y4)\n",
    "plt.plot(x5,y5)\n",
    "plt.plot(x6,y6)\n"
   ]
  },
  {
   "cell_type": "code",
   "execution_count": null,
   "metadata": {},
   "outputs": [],
   "source": []
  },
  {
   "cell_type": "code",
   "execution_count": null,
   "metadata": {},
   "outputs": [],
   "source": []
  }
 ],
 "metadata": {
  "kernelspec": {
   "display_name": "Python 3",
   "language": "python",
   "name": "python3"
  },
  "language_info": {
   "codemirror_mode": {
    "name": "ipython",
    "version": 3
   },
   "file_extension": ".py",
   "mimetype": "text/x-python",
   "name": "python",
   "nbconvert_exporter": "python",
   "pygments_lexer": "ipython3",
   "version": "3.7.4"
  }
 },
 "nbformat": 4,
 "nbformat_minor": 2
}
